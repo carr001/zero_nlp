{
 "cells": [
  {
   "attachments": {},
   "cell_type": "markdown",
   "metadata": {},
   "source": [
    "# 完整的训练流程\n",
    "1. 数据基于`https://github.com/hikariming/alpaca_chinese_dataset`\n",
    "2. 部分代码来源于`https://github.com/27182812/ChatGLM-chinese-insturct/blob/main/finetune.py`\n",
    "3. 基于我之前修改的`model_chatglm.py`做的一整套教程\n",
    "\n",
    "## 清洗数据"
   ]
  },
  {
   "cell_type": "code",
   "execution_count": 1,
   "metadata": {},
   "outputs": [],
   "source": [
    "# 如果没有下载这个仓库，可以使用下面命令进行clone\n",
    "\n",
    "# !git clone https://github.com/hikariming/alpaca_chinese_dataset.git"
   ]
  },
  {
   "cell_type": "code",
   "execution_count": 1,
   "metadata": {},
   "outputs": [],
   "source": [
    "from glob import glob\n",
    "import os \n",
    "import pandas as pd \n",
    "import shutil\n",
    "from itertools import chain\n",
    "from tqdm import tqdm\n",
    "from pathlib import Path\n",
    "os.environ[\"CUDA_VISIBLE_DEVICES\"] = \"0\""
   ]
  },
  {
   "cell_type": "code",
   "execution_count": 2,
   "metadata": {},
   "outputs": [
    {
     "data": {
      "text/plain": [
       "(25,\n",
       " ['../../alpaca_chinese_dataset/其他中文问题补充\\\\glm问题数据.json',\n",
       "  '../../alpaca_chinese_dataset/其他中文问题补充\\\\三国问题.json',\n",
       "  '../../alpaca_chinese_dataset/其他中文问题补充\\\\代码问题.json',\n",
       "  '../../alpaca_chinese_dataset/其他中文问题补充\\\\企业管理问题.json',\n",
       "  '../../alpaca_chinese_dataset/其他中文问题补充\\\\传统诗词及文化常识问题.json',\n",
       "  '../../alpaca_chinese_dataset/其他中文问题补充\\\\党建类数据集.json',\n",
       "  '../../alpaca_chinese_dataset/其他中文问题补充\\\\其他问题.json',\n",
       "  '../../alpaca_chinese_dataset/其他中文问题补充\\\\名词解释类问题.json',\n",
       "  '../../alpaca_chinese_dataset/其他中文问题补充\\\\学术问题.json',\n",
       "  '../../alpaca_chinese_dataset/其他中文问题补充\\\\建议类问题.json',\n",
       "  '../../alpaca_chinese_dataset/其他中文问题补充\\\\心得体会类、宣传报道类.json',\n",
       "  '../../alpaca_chinese_dataset/其他中文问题补充\\\\情绪心理类问题.json',\n",
       "  '../../alpaca_chinese_dataset/其他中文问题补充\\\\整数加减法.json',\n",
       "  '../../alpaca_chinese_dataset/其他中文问题补充\\\\气候环境问题wys.json',\n",
       "  '../../alpaca_chinese_dataset/其他中文问题补充\\\\申请书类.json',\n",
       "  '../../alpaca_chinese_dataset/其他中文问题补充\\\\翻译问题.json',\n",
       "  '../../alpaca_chinese_dataset/其他中文问题补充\\\\计算机问题.json',\n",
       "  '../../alpaca_chinese_dataset/其他中文问题补充\\\\饮食问题.json',\n",
       "  '../../alpaca_chinese_dataset/翻译后的中文数据\\\\alpaca_data-0-3252-中文-已完成.json',\n",
       "  '../../alpaca_chinese_dataset/翻译后的中文数据\\\\alpaca_data-12345-15323-中文.json',\n",
       "  '../../alpaca_chinese_dataset/翻译后的中文数据\\\\alpaca_data-15323-18280-中文.json',\n",
       "  '../../alpaca_chinese_dataset/翻译后的中文数据\\\\alpaca_data-18280-21320-中文-wys未完成.json',\n",
       "  '../../alpaca_chinese_dataset/翻译后的中文数据\\\\alpaca_data-3252-6382-中文-已完成.json',\n",
       "  '../../alpaca_chinese_dataset/翻译后的中文数据\\\\alpaca_data-6382-9407-（jlh）中文-已完成.json',\n",
       "  '../../alpaca_chinese_dataset/翻译后的中文数据\\\\alpaca_data-9407-12345-中文-未完成.json'])"
      ]
     },
     "execution_count": 2,
     "metadata": {},
     "output_type": "execute_result"
    }
   ],
   "source": [
    "target_dir_list = ['../../alpaca_chinese_dataset/其他中文问题补充/',\n",
    "                   '../../alpaca_chinese_dataset/翻译后的中文数据/',\n",
    "                   '../../alpaca_chinese_dataset/chatglm问题数据补充/',\n",
    "                #    'alpaca_chinese_dataset/原始英文数据/'\n",
    "                   ]\n",
    "#target_dir_list = ['../../alpaca_chinese_dataset/其他中文问题补充/',\n",
    "                #    'alpaca_chinese_dataset/原始英文数据/'\n",
    "#                   ]\n",
    "\n",
    "all_json_path = [glob(i+\"*.json\") for i in target_dir_list]\n",
    "all_json_path = list(chain(*all_json_path))\n",
    "len(all_json_path), all_json_path[:]\n"
   ]
  },
  {
   "cell_type": "code",
   "execution_count": 3,
   "metadata": {},
   "outputs": [],
   "source": [
    "def read_json(x:str):\n",
    "    try:\n",
    "        data = pd.read_json(x)\n",
    "        return data \n",
    "    except Exception as e:\n",
    "        return pd.DataFrame()\n",
    "\n",
    "alldata = pd.concat([read_json(i) for i in all_json_path])\n",
    "# alldata"
   ]
  },
  {
   "cell_type": "code",
   "execution_count": 4,
   "metadata": {},
   "outputs": [
    {
     "data": {
      "text/plain": [
       "pandas.core.frame.DataFrame"
      ]
     },
     "execution_count": 4,
     "metadata": {},
     "output_type": "execute_result"
    }
   ],
   "source": [
    "A = read_json(all_json_path[0])\n",
    "type(A)"
   ]
  },
  {
   "cell_type": "code",
   "execution_count": 5,
   "metadata": {},
   "outputs": [
    {
     "data": {
      "text/plain": [
       "WindowsPath('data3_0408')"
      ]
     },
     "execution_count": 5,
     "metadata": {},
     "output_type": "execute_result"
    }
   ],
   "source": [
    "genrate_data_dir = \"data3_0408\"\n",
    "genrate_data_dir = Path(genrate_data_dir)\n",
    "genrate_data_dir"
   ]
  },
  {
   "cell_type": "code",
   "execution_count": 6,
   "metadata": {},
   "outputs": [],
   "source": [
    "genrate_data_dir = \"data3_0408\"\n",
    "genrate_data_dir = Path(genrate_data_dir)\n",
    "\n",
    "if genrate_data_dir.exists():\n",
    "    shutil.rmtree(genrate_data_dir, ignore_errors=True)\n",
    "\n",
    "os.makedirs(genrate_data_dir, exist_ok=True)\n"
   ]
  },
  {
   "cell_type": "code",
   "execution_count": 7,
   "metadata": {},
   "outputs": [
    {
     "data": {
      "text/plain": [
       "(27758, 4)"
      ]
     },
     "execution_count": 7,
     "metadata": {},
     "output_type": "execute_result"
    }
   ],
   "source": [
    "alldata.shape"
   ]
  },
  {
   "cell_type": "code",
   "execution_count": 8,
   "metadata": {},
   "outputs": [
    {
     "name": "stderr",
     "output_type": "stream",
     "text": [
      "42it [00:00, 298.34it/s]\n"
     ]
    }
   ],
   "source": [
    "alldata = alldata.sample(frac=1).reset_index(drop=True)\n",
    "\n",
    "chunk_size = 666\n",
    "\n",
    "for index, start_id in tqdm(enumerate(range(0, alldata.shape[0], chunk_size))):\n",
    "    temp_data = alldata.iloc[start_id:(start_id+chunk_size)]\n",
    "    temp_data.to_csv(genrate_data_dir.joinpath(f\"{index}.csv\"), index=False)"
   ]
  },
  {
   "attachments": {},
   "cell_type": "markdown",
   "metadata": {},
   "source": [
    "## 训练模型"
   ]
  },
  {
   "cell_type": "code",
   "execution_count": 9,
   "metadata": {},
   "outputs": [
    {
     "name": "stdout",
     "output_type": "stream",
     "text": [
      "Package                   Version\n",
      "------------------------- ---------------\n",
      "absl-py                   2.1.0\n",
      "accelerate                0.29.1\n",
      "aiofiles                  23.2.1\n",
      "aiohttp                   3.9.3\n",
      "aiosignal                 1.3.1\n",
      "altair                    5.3.0\n",
      "annotated-types           0.6.0\n",
      "antlr4-python3-runtime    4.8\n",
      "anyio                     4.3.0\n",
      "argon2-cffi               23.1.0\n",
      "argon2-cffi-bindings      21.2.0\n",
      "arrow                     1.3.0\n",
      "arxiv                     2.1.0\n",
      "asttokens                 2.4.1\n",
      "async-lru                 2.0.4\n",
      "async-timeout             4.0.3\n",
      "attrs                     23.2.0\n",
      "audioread                 3.0.1\n",
      "av                        12.0.0\n",
      "Babel                     2.14.0\n",
      "beautifulsoup4            4.12.3\n",
      "bibtexparser              2.0.0b7\n",
      "bitarray                  2.9.2\n",
      "bleach                    6.1.0\n",
      "blinker                   1.7.0\n",
      "cachetools                5.3.3\n",
      "certifi                   2024.2.2\n",
      "cffi                      1.16.0\n",
      "charset-normalizer        3.3.2\n",
      "click                     8.1.7\n",
      "clldutils                 3.22.2\n",
      "colorama                  0.4.6\n",
      "coloredlogs               15.0.1\n",
      "colorlog                  6.8.2\n",
      "comm                      0.2.1\n",
      "contourpy                 1.2.1\n",
      "cpm-kernels               1.0.11\n",
      "csvw                      3.3.0\n",
      "cycler                    0.12.1\n",
      "Cython                    3.0.10\n",
      "dataclasses-json          0.6.4\n",
      "datasets                  2.18.0\n",
      "debugpy                   1.8.1\n",
      "decorator                 5.1.1\n",
      "defusedxml                0.7.1\n",
      "dill                      0.3.8\n",
      "distro                    1.9.0\n",
      "dlinfo                    1.2.1\n",
      "einops                    0.7.0\n",
      "exceptiongroup            1.2.0\n",
      "executing                 2.0.1\n",
      "fairseq                   0.12.2\n",
      "faiss-cpu                 1.8.0\n",
      "fastapi                   0.110.1\n",
      "fastjsonschema            2.19.1\n",
      "feedparser                6.0.10\n",
      "ffmpeg-python             0.2.0\n",
      "ffmpy                     0.3.1\n",
      "filelock                  3.13.1\n",
      "flatbuffers               24.3.25\n",
      "fonttools                 4.50.0\n",
      "fqdn                      1.5.1\n",
      "frozenlist                1.4.1\n",
      "fsspec                    2024.2.0\n",
      "future                    1.0.0\n",
      "gitdb                     4.0.11\n",
      "GitPython                 3.1.43\n",
      "gradio                    4.25.0\n",
      "gradio_client             0.15.0\n",
      "graphviz                  0.20.3\n",
      "greenlet                  3.0.3\n",
      "grpcio                    1.62.1\n",
      "h11                       0.14.0\n",
      "httpcore                  1.0.4\n",
      "httpx                     0.27.0\n",
      "huggingface-hub           0.21.4\n",
      "humanfriendly             10.0\n",
      "hydra-core                1.0.7\n",
      "icetk                     0.0.4\n",
      "idna                      3.6\n",
      "importlib-metadata        7.0.1\n",
      "importlib_resources       6.4.0\n",
      "ipykernel                 6.29.3\n",
      "ipython                   8.18.1\n",
      "ipywidgets                8.1.2\n",
      "isodate                   0.6.1\n",
      "isoduration               20.11.0\n",
      "jedi                      0.19.1\n",
      "Jinja2                    3.1.3\n",
      "joblib                    1.3.2\n",
      "json5                     0.9.20\n",
      "jsonpatch                 1.33\n",
      "jsonpointer               2.4\n",
      "jsonschema                4.21.1\n",
      "jsonschema-specifications 2023.12.1\n",
      "jupyter                   1.0.0\n",
      "jupyter_client            8.6.0\n",
      "jupyter-console           6.6.3\n",
      "jupyter_core              5.7.1\n",
      "jupyter-events            0.9.0\n",
      "jupyter-lsp               2.2.3\n",
      "jupyter_server            2.12.5\n",
      "jupyter_server_terminals  0.5.2\n",
      "jupyterlab                4.1.2\n",
      "jupyterlab_pygments       0.3.0\n",
      "jupyterlab_server         2.25.3\n",
      "jupyterlab_widgets        3.0.10\n",
      "kiwisolver                1.4.5\n",
      "langchain                 0.1.14\n",
      "langchain-community       0.0.31\n",
      "langchain-core            0.1.40\n",
      "langchain-text-splitters  0.0.1\n",
      "langchainhub              0.1.15\n",
      "langsmith                 0.1.40\n",
      "language-tags             1.2.0\n",
      "latex2mathml              3.77.0\n",
      "lazy_loader               0.3\n",
      "librosa                   0.9.1\n",
      "linkify-it-py             2.0.3\n",
      "llvmlite                  0.42.0\n",
      "local-attention           1.9.0\n",
      "loguru                    0.7.2\n",
      "lxml                      5.2.1\n",
      "Markdown                  3.6\n",
      "markdown-it-py            2.2.0\n",
      "MarkupSafe                2.1.5\n",
      "marshmallow               3.21.1\n",
      "matplotlib                3.8.3\n",
      "matplotlib-inline         0.1.6\n",
      "mdit-py-plugins           0.3.3\n",
      "mdtex2html                1.3.0\n",
      "mdurl                     0.1.2\n",
      "mistune                   3.0.2\n",
      "mpmath                    1.3.0\n",
      "msgpack                   1.0.8\n",
      "multidict                 6.0.5\n",
      "multiprocess              0.70.16\n",
      "mypy-extensions           1.0.0\n",
      "nbclient                  0.9.0\n",
      "nbconvert                 7.16.1\n",
      "nbformat                  5.9.2\n",
      "nest-asyncio              1.6.0\n",
      "networkx                  3.2.1\n",
      "notebook                  7.1.2\n",
      "notebook_shim             0.2.4\n",
      "numba                     0.59.1\n",
      "numpy                     1.26.4\n",
      "omegaconf                 2.0.6\n",
      "onnxruntime-gpu           1.17.1\n",
      "openai                    1.16.2\n",
      "orjson                    3.10.0\n",
      "overrides                 7.7.0\n",
      "packaging                 23.2\n",
      "pandas                    2.2.1\n",
      "pandocfilters             1.5.1\n",
      "parso                     0.8.3\n",
      "peft                      0.10.0\n",
      "phonemizer                3.2.1\n",
      "pillow                    10.2.0\n",
      "pip                       24.0\n",
      "platformdirs              4.2.0\n",
      "pooch                     1.8.1\n",
      "portalocker               2.8.2\n",
      "praat-parselmouth         0.4.3\n",
      "prometheus_client         0.20.0\n",
      "prompt-toolkit            3.0.43\n",
      "protobuf                  3.20.0\n",
      "psutil                    5.9.8\n",
      "pure-eval                 0.2.2\n",
      "pyarrow                   15.0.1\n",
      "pyarrow-hotfix            0.6\n",
      "pyasn1                    0.6.0\n",
      "pyasn1_modules            0.4.0\n",
      "pycparser                 2.21\n",
      "pydantic                  2.6.4\n",
      "pydantic_core             2.16.3\n",
      "pydeck                    0.8.1b0\n",
      "pydub                     0.25.1\n",
      "Pygments                  2.17.2\n",
      "PyJWT                     2.8.0\n",
      "pylatexenc                2.10\n",
      "pyparsing                 3.1.2\n",
      "pyreadline3               3.4.1\n",
      "python-dateutil           2.9.0.post0\n",
      "python-dotenv             1.0.1\n",
      "python-json-logger        2.0.7\n",
      "python-multipart          0.0.9\n",
      "pytz                      2024.1\n",
      "pywin32                   306\n",
      "pywinpty                  2.0.13\n",
      "pyworld                   0.3.2\n",
      "PyYAML                    6.0.1\n",
      "pyzmq                     25.1.2\n",
      "qtconsole                 5.5.1\n",
      "QtPy                      2.4.1\n",
      "rdflib                    7.0.0\n",
      "referencing               0.33.0\n",
      "regex                     2023.12.25\n",
      "requests                  2.31.0\n",
      "resampy                   0.4.3\n",
      "rfc3339-validator         0.1.4\n",
      "rfc3986                   1.5.0\n",
      "rfc3986-validator         0.1.1\n",
      "rich                      13.7.1\n",
      "rpds-py                   0.18.0\n",
      "ruff                      0.3.5\n",
      "sacrebleu                 2.4.1\n",
      "safetensors               0.4.2\n",
      "scikit-learn              1.4.1.post1\n",
      "scipy                     1.13.0\n",
      "segments                  2.2.1\n",
      "semantic-version          2.10.0\n",
      "Send2Trash                1.8.2\n",
      "sentence-transformers     2.6.1\n",
      "sentencepiece             0.2.0\n",
      "setuptools                69.2.0\n",
      "sgmllib3k                 1.0.0\n",
      "shellingham               1.5.4\n",
      "six                       1.16.0\n",
      "smmap                     5.0.1\n",
      "sniffio                   1.3.1\n",
      "soundfile                 0.12.1\n",
      "soupsieve                 2.5\n",
      "soxr                      0.3.7\n",
      "SQLAlchemy                2.0.29\n",
      "sse-starlette             2.1.0\n",
      "stack-data                0.6.3\n",
      "starlette                 0.37.2\n",
      "streamlit                 1.33.0\n",
      "sympy                     1.12\n",
      "tabulate                  0.9.0\n",
      "tenacity                  8.2.3\n",
      "tensorboard               2.16.2\n",
      "tensorboard-data-server   0.7.2\n",
      "tensorboardX              2.6.2.2\n",
      "terminado                 0.18.0\n",
      "threadpoolctl             3.4.0\n",
      "tiktoken                  0.6.0\n",
      "timm                      0.9.16\n",
      "tinycss2                  1.2.1\n",
      "tokenizers                0.13.3\n",
      "toml                      0.10.2\n",
      "tomli                     2.0.1\n",
      "tomlkit                   0.12.0\n",
      "toolz                     0.12.1\n",
      "torch                     2.2.2+cu121\n",
      "torchaudio                2.2.2+cu121\n",
      "torchcrepe                0.0.20\n",
      "torchfcpe                 0.0.4\n",
      "torchsummary              1.5.1\n",
      "torchvision               0.17.2+cu121\n",
      "torchviz                  0.0.2\n",
      "tornado                   6.4\n",
      "tqdm                      4.66.2\n",
      "traitlets                 5.14.1\n",
      "transformers              4.32.0\n",
      "typer                     0.12.1\n",
      "types-python-dateutil     2.8.19.20240106\n",
      "types-requests            2.31.0.20240406\n",
      "typing_extensions         4.9.0\n",
      "typing-inspect            0.9.0\n",
      "tzdata                    2024.1\n",
      "uc-micro-py               1.0.3\n",
      "Unidecode                 1.3.8\n",
      "uri-template              1.3.0\n",
      "uritemplate               4.1.1\n",
      "urllib3                   2.2.1\n",
      "uvicorn                   0.29.0\n",
      "watchdog                  4.0.0\n",
      "wcwidth                   0.2.13\n",
      "webcolors                 1.13\n",
      "webencodings              0.5.1\n",
      "websocket-client          1.7.0\n",
      "websockets                11.0.3\n",
      "Werkzeug                  3.0.2\n",
      "wheel                     0.36.2\n",
      "widgetsnbextension        4.0.10\n",
      "win32-setctime            1.1.0\n",
      "xxhash                    3.4.1\n",
      "yarl                      1.9.4\n",
      "zhipuai                   2.0.1\n",
      "zipp                      3.17.0\n",
      "Note: you may need to restart the kernel to use updated packages.\n"
     ]
    },
    {
     "name": "stderr",
     "output_type": "stream",
     "text": [
      "WARNING: Ignoring invalid distribution -otebook (f:\\learn\\ai\\carr001\\venv\\lib\\site-packages)\n"
     ]
    }
   ],
   "source": [
    "pip list"
   ]
  },
  {
   "cell_type": "code",
   "execution_count": 10,
   "metadata": {},
   "outputs": [
    {
     "name": "stderr",
     "output_type": "stream",
     "text": [
      "F:\\learn\\AI\\carr001\\venv\\lib\\site-packages\\transformers\\utils\\generic.py:260: UserWarning: torch.utils._pytree._register_pytree_node is deprecated. Please use torch.utils._pytree.register_pytree_node instead.\n",
      "  torch.utils._pytree._register_pytree_node(\n",
      "F:\\learn\\AI\\carr001\\venv\\lib\\site-packages\\transformers\\utils\\generic.py:260: UserWarning: torch.utils._pytree._register_pytree_node is deprecated. Please use torch.utils._pytree.register_pytree_node instead.\n",
      "  torch.utils._pytree._register_pytree_node(\n"
     ]
    }
   ],
   "source": [
    "# from thuglm.modeling_chatglm import ChatGLMForConditionalGeneration\n",
    "# from thuglmcode.model_chatglm import ChatGLMForConditionalGeneration\n",
    "from transformers import Trainer, TrainingArguments\n",
    "import random\n",
    "from datasets import load_dataset\n",
    "from transformers import AutoTokenizer, AutoModel\n",
    "from peft import get_peft_model, LoraConfig, TaskType\n",
    "from typing import Optional\n",
    "import torch"
   ]
  },
  {
   "cell_type": "code",
   "execution_count": 11,
   "metadata": {},
   "outputs": [],
   "source": [
    "tokenizer = AutoTokenizer.from_pretrained(\"F:\\\\learn\\\\AI\\\\carr001\\\\learn_ai\\\\third_party\\\\ChatGLM-6b\\\\THUDM\\\\chatglm-6b\", trust_remote_code=True)\n"
   ]
  },
  {
   "cell_type": "code",
   "execution_count": 12,
   "metadata": {},
   "outputs": [
    {
     "data": {
      "application/vnd.jupyter.widget-view+json": {
       "model_id": "d1b1a15fe527473ba9b1ee5cf050a2a9",
       "version_major": 2,
       "version_minor": 0
      },
      "text/plain": [
       "Loading checkpoint shards:   0%|          | 0/8 [00:00<?, ?it/s]"
      ]
     },
     "metadata": {},
     "output_type": "display_data"
    }
   ],
   "source": [
    "model = AutoModel.from_pretrained(\n",
    "    \"F:\\\\learn\\\\AI\\\\carr001\\\\learn_ai\\\\third_party\\\\ChatGLM-6b\\\\THUDM\\\\chatglm-6b\", trust_remote_code=True).half().cuda()\n",
    "\n",
    "peft_config = LoraConfig(\n",
    "    task_type=TaskType.CAUSAL_LM,\n",
    "    inference_mode=False, r=8, lora_alpha=32, lora_dropout=0.1,\n",
    "    # ['dense','dense_h_to_4h','dense_4h_to_h'] # 'query_key_value',\n",
    "    target_modules=['query_key_value',],\n",
    ")\n",
    "model = get_peft_model(model, peft_config)"
   ]
  },
  {
   "cell_type": "code",
   "execution_count": 13,
   "metadata": {},
   "outputs": [],
   "source": [
    "class MyTrainer(Trainer):\n",
    "    def _save(self, output_dir: Optional[str] = None, state_dict=None):\n",
    "        # If we are executing this function, we are the process zero, so we don't check for that.\n",
    "        output_dir = output_dir if output_dir is not None else self.args.output_dir\n",
    "        os.makedirs(output_dir, exist_ok=True)\n",
    "        def save_tunable_parameters(model, path):\n",
    "            saved_params = {\n",
    "                k: v.to(\"cpu\") for k, v in model.named_parameters() if v.requires_grad\n",
    "            }\n",
    "            # saved_params = model.state_dict()\n",
    "            torch.save(saved_params, path)\n",
    "\n",
    "        save_tunable_parameters(\n",
    "            self.model, os.path.join(output_dir, \"chatglm-lora.pt\")\n",
    "        )\n",
    "\n",
    "\n"
   ]
  },
  {
   "cell_type": "code",
   "execution_count": 14,
   "metadata": {},
   "outputs": [
    {
     "data": {
      "text/plain": [
       "(32, 10)"
      ]
     },
     "execution_count": 14,
     "metadata": {},
     "output_type": "execute_result"
    }
   ],
   "source": [
    "random.seed(42)\n",
    "\n",
    "all_file_list = glob(pathname=genrate_data_dir.joinpath(\"*.csv\").__str__())\n",
    "\n",
    "test_file_list = random.sample(all_file_list, int(len(all_file_list)*0.25))\n",
    "train_file_list = [i for i in all_file_list if i not in test_file_list]\n",
    "\n",
    "len(train_file_list), len(test_file_list)"
   ]
  },
  {
   "cell_type": "code",
   "execution_count": 15,
   "metadata": {},
   "outputs": [
    {
     "data": {
      "application/vnd.jupyter.widget-view+json": {
       "model_id": "1c74b5e09a43435ea3dd9aaea99d7530",
       "version_major": 2,
       "version_minor": 0
      },
      "text/plain": [
       "Resolving data files:   0%|          | 0/32 [00:00<?, ?it/s]"
      ]
     },
     "metadata": {},
     "output_type": "display_data"
    },
    {
     "data": {
      "application/vnd.jupyter.widget-view+json": {
       "model_id": "3746b865eaba4ba9980dc2046ba09e29",
       "version_major": 2,
       "version_minor": 0
      },
      "text/plain": [
       "Generating train split: 0 examples [00:00, ? examples/s]"
      ]
     },
     "metadata": {},
     "output_type": "display_data"
    },
    {
     "data": {
      "application/vnd.jupyter.widget-view+json": {
       "model_id": "b2f5850f57a441259349c5d307eb2cdc",
       "version_major": 2,
       "version_minor": 0
      },
      "text/plain": [
       "Generating valid split: 0 examples [00:00, ? examples/s]"
      ]
     },
     "metadata": {},
     "output_type": "display_data"
    },
    {
     "data": {
      "text/plain": [
       "DatasetDict({\n",
       "    train: Dataset({\n",
       "        features: ['instruction', 'input', 'output', 'history'],\n",
       "        num_rows: 21098\n",
       "    })\n",
       "    valid: Dataset({\n",
       "        features: ['instruction', 'input', 'output', 'history'],\n",
       "        num_rows: 6660\n",
       "    })\n",
       "})"
      ]
     },
     "execution_count": 15,
     "metadata": {},
     "output_type": "execute_result"
    }
   ],
   "source": [
    "dataset = load_dataset(\n",
    "    \"csv\",\n",
    "    data_files={\n",
    "    'train':train_file_list,\n",
    "    'valid':test_file_list\n",
    "    },\n",
    "    cache_dir=\"cache_data\"\n",
    ")\n",
    "dataset"
   ]
  },
  {
   "cell_type": "code",
   "execution_count": 16,
   "metadata": {},
   "outputs": [],
   "source": [
    "def get_masks_and_position_ids(\n",
    "    seq, seq_len, context_length, device, gmask=False, position_encoding_2d=True\n",
    "):\n",
    "    mask_position = (\n",
    "        seq_len - 2\n",
    "    )  # is equal to `seq.index(mask_token)` or `seq.index(150001)`\n",
    "    attention_mask = torch.ones((1, context_length, context_length), device=device)\n",
    "    attention_mask.tril_()\n",
    "    attention_mask[..., : mask_position - 1] = 1\n",
    "    attention_mask = (attention_mask < 0.5).bool()\n",
    "\n",
    "    if position_encoding_2d:\n",
    "        seq_length = seq_len - 1  # is equal to `seq_length = seq.index(150004)`\n",
    "        position_ids = torch.arange(context_length, dtype=torch.long, device=device)\n",
    "        if not gmask:\n",
    "            position_ids[seq_length:] = mask_position\n",
    "        block_position_ids = torch.cat(\n",
    "            (\n",
    "                torch.zeros(seq_length, dtype=torch.long, device=device),\n",
    "                torch.arange(\n",
    "                    context_length - seq_length, dtype=torch.long, device=device\n",
    "                )\n",
    "                + 1,\n",
    "            )\n",
    "        )\n",
    "        position_ids = torch.stack((position_ids, block_position_ids), dim=0)\n",
    "    else:\n",
    "        position_ids = torch.arange(context_length, dtype=torch.long, device=device)\n",
    "        if not gmask:\n",
    "            position_ids[context_length - 1 :] = mask_position\n",
    "    return attention_mask, position_ids\n",
    "\n",
    "def data_collator(features: list) -> dict:\n",
    "    len_ids = [len(feature[\"input_ids\"]) for feature in features]\n",
    "    longest = max(len_ids) + 1\n",
    "    input_ids = []\n",
    "    attention_mask_list = []\n",
    "    position_ids_list = []\n",
    "    labels_list = []\n",
    "    for ids_l, feature in sorted(zip(len_ids, features), key=lambda x: -x[0]):\n",
    "        ids = feature[\"input_ids\"]\n",
    "        seq_len = feature[\"seq_len\"]\n",
    "        labels = (\n",
    "            [-100] * (seq_len - 1)\n",
    "            + ids[(seq_len - 1) :]\n",
    "            + [tokenizer.end_token_id]\n",
    "            + [-100] * (longest - ids_l - 1)\n",
    "        )\n",
    "        ids = ids + [tokenizer.end_token_id] * (longest - ids_l)\n",
    "        _ids = torch.LongTensor(ids)\n",
    "        attention_mask, position_ids = get_masks_and_position_ids(\n",
    "            ids, seq_len, longest, _ids.device, gmask=False\n",
    "        )\n",
    "        labels_list.append(torch.LongTensor(labels))\n",
    "        input_ids.append(_ids)\n",
    "        attention_mask_list.append(attention_mask)\n",
    "        position_ids_list.append(position_ids)\n",
    "    input_ids = torch.stack(input_ids)\n",
    "    labels = torch.stack(labels_list)\n",
    "    attention_mask = torch.stack(attention_mask_list)\n",
    "    position_ids = torch.stack(position_ids_list)\n",
    "    return {\n",
    "        \"input_ids\": input_ids,\n",
    "        \"labels\": labels,\n",
    "        \"attention_mask\": attention_mask,\n",
    "        \"position_ids\": position_ids,\n",
    "    }\n",
    "\n"
   ]
  },
  {
   "cell_type": "code",
   "execution_count": 17,
   "metadata": {},
   "outputs": [
    {
     "data": {
      "application/vnd.jupyter.widget-view+json": {
       "model_id": "02e515e2b1494511868e9c81f72d9aaf",
       "version_major": 2,
       "version_minor": 0
      },
      "text/plain": [
       "Map:   0%|          | 0/21098 [00:00<?, ? examples/s]"
      ]
     },
     "metadata": {},
     "output_type": "display_data"
    },
    {
     "data": {
      "application/vnd.jupyter.widget-view+json": {
       "model_id": "9f3f3114ddf04305a34b22c7b3dded07",
       "version_major": 2,
       "version_minor": 0
      },
      "text/plain": [
       "Map:   0%|          | 0/6660 [00:00<?, ? examples/s]"
      ]
     },
     "metadata": {},
     "output_type": "display_data"
    },
    {
     "data": {
      "application/vnd.jupyter.widget-view+json": {
       "model_id": "7a5b2d37f0954430a36ded7d9d62d91e",
       "version_major": 2,
       "version_minor": 0
      },
      "text/plain": [
       "Filter:   0%|          | 0/21098 [00:00<?, ? examples/s]"
      ]
     },
     "metadata": {},
     "output_type": "display_data"
    },
    {
     "data": {
      "application/vnd.jupyter.widget-view+json": {
       "model_id": "03ae15e9651c4f129777b95ce2ad648c",
       "version_major": 2,
       "version_minor": 0
      },
      "text/plain": [
       "Filter:   0%|          | 0/6660 [00:00<?, ? examples/s]"
      ]
     },
     "metadata": {},
     "output_type": "display_data"
    },
    {
     "data": {
      "application/vnd.jupyter.widget-view+json": {
       "model_id": "10c2defc601747fca724d198de186e63",
       "version_major": 2,
       "version_minor": 0
      },
      "text/plain": [
       "Map:   0%|          | 0/21089 [00:00<?, ? examples/s]"
      ]
     },
     "metadata": {},
     "output_type": "display_data"
    },
    {
     "data": {
      "application/vnd.jupyter.widget-view+json": {
       "model_id": "7393756b623c499d891a3be81a5d77ec",
       "version_major": 2,
       "version_minor": 0
      },
      "text/plain": [
       "Map:   0%|          | 0/6659 [00:00<?, ? examples/s]"
      ]
     },
     "metadata": {},
     "output_type": "display_data"
    },
    {
     "data": {
      "text/plain": [
       "DatasetDict({\n",
       "    train: Dataset({\n",
       "        features: ['context', 'target', 'input_ids', 'seq_len'],\n",
       "        num_rows: 21089\n",
       "    })\n",
       "    valid: Dataset({\n",
       "        features: ['context', 'target', 'input_ids', 'seq_len'],\n",
       "        num_rows: 6659\n",
       "    })\n",
       "})"
      ]
     },
     "execution_count": 17,
     "metadata": {},
     "output_type": "execute_result"
    }
   ],
   "source": [
    "def format_example(example: dict) -> dict:\n",
    "    context = f\"Instruction: {example['instruction']}\\n\"\n",
    "    if example.get(\"input\"):\n",
    "        context += f\"Input: {example['input']}\\n\"\n",
    "    context += \"Answer: \"\n",
    "    target = example[\"output\"]\n",
    "    # {\"context\": context, \"target\": target}\n",
    "    example['context'] = context\n",
    "    example['target'] = target\n",
    "    return example\n",
    "\n",
    "max_seq_length = 512\n",
    "\n",
    "def preprocess(example):\n",
    "    prompt = example[\"context\"]\n",
    "    target = example[\"target\"]\n",
    "    prompt_ids = tokenizer.encode(prompt, max_length=max_seq_length, truncation=True)\n",
    "    target_ids = tokenizer.encode(\n",
    "        target, max_length=max_seq_length, truncation=True, add_special_tokens=False\n",
    "    )\n",
    "    input_ids = prompt_ids + target_ids + [tokenizer.eos_token_id]\n",
    "    return {\"input_ids\": input_ids, \"seq_len\": len(prompt_ids)}\n",
    "\n",
    "def filter_nan(example):\n",
    "    return example['target'] is not None and example['context'] is not  None\n",
    "\n",
    "\n",
    "tokenized_datasets = dataset.map(\n",
    "    function=format_example, remove_columns=dataset['train'].column_names\n",
    "    ).filter(function=filter_nan)\n",
    "tokenized_datasets = tokenized_datasets.map(function=preprocess)\n",
    "tokenized_datasets\n"
   ]
  },
  {
   "cell_type": "code",
   "execution_count": 18,
   "metadata": {},
   "outputs": [],
   "source": [
    "# model.gradient_checkpointing"
   ]
  },
  {
   "cell_type": "code",
   "execution_count": 19,
   "metadata": {},
   "outputs": [],
   "source": [
    "# model.gradient_checkpointing = True\n",
    "# model._set_gradient_checkpointing(value=True)"
   ]
  },
  {
   "cell_type": "code",
   "execution_count": 20,
   "metadata": {},
   "outputs": [],
   "source": [
    "from transformers.trainer_callback import TrainerCallback, TrainerState, TrainerControl\n",
    "\n",
    "\n",
    "\n",
    "class EmptyCacheCallBack(TrainerCallback):\n",
    "    \"\"\"\n",
    "    通过callback的形式，解决显存不够的问题\n",
    "\n",
    "    \"\"\"\n",
    "\n",
    "    def __init__(self) -> None:\n",
    "        super().__init__()\n",
    "\n",
    "    def on_log(self, args: TrainingArguments, state: TrainerState, control: TrainerControl, logs, **kwargs):\n",
    "        \"\"\"\n",
    "        Event called after logging the last logs.\n",
    "        \"\"\"\n",
    "        torch.cuda.empty_cache()\n",
    "\n",
    "    def on_epoch_begin(self, args: TrainingArguments, state: TrainerState, control: TrainerControl, **kwargs):\n",
    "        torch.cuda.empty_cache()\n",
    "\n",
    "    def on_step_begin(self, args: TrainingArguments, state: TrainerState, control: TrainerControl, **kwargs):\n",
    "        torch.cuda.empty_cache()\n",
    "        \n",
    "    \n",
    "\n",
    "eccb = EmptyCacheCallBack()\n"
   ]
  },
  {
   "cell_type": "code",
   "execution_count": 21,
   "metadata": {},
   "outputs": [
    {
     "name": "stderr",
     "output_type": "stream",
     "text": [
      "F:\\learn\\AI\\carr001\\venv\\lib\\site-packages\\accelerate\\accelerator.py:436: FutureWarning: Passing the following arguments to `Accelerator` is deprecated and will be removed in version 1.0 of Accelerate: dict_keys(['dispatch_batches']). Please pass an `accelerate.DataLoaderConfiguration` instead: \n",
      "dataloader_config = DataLoaderConfiguration(dispatch_batches=None)\n",
      "  warnings.warn(\n"
     ]
    },
    {
     "ename": "ValueError",
     "evalue": "Attempting to unscale FP16 gradients.",
     "output_type": "error",
     "traceback": [
      "\u001b[1;31m---------------------------------------------------------------------------\u001b[0m",
      "\u001b[1;31mValueError\u001b[0m                                Traceback (most recent call last)",
      "Cell \u001b[1;32mIn[21], line 29\u001b[0m\n\u001b[0;32m      1\u001b[0m args \u001b[38;5;241m=\u001b[39m TrainingArguments(\n\u001b[0;32m      2\u001b[0m     output_dir\u001b[38;5;241m=\u001b[39m\u001b[38;5;124m\"\u001b[39m\u001b[38;5;124mtest004\u001b[39m\u001b[38;5;124m\"\u001b[39m,\n\u001b[0;32m      3\u001b[0m     per_device_train_batch_size\u001b[38;5;241m=\u001b[39m\u001b[38;5;241m1\u001b[39m, \n\u001b[1;32m   (...)\u001b[0m\n\u001b[0;32m     17\u001b[0m     remove_unused_columns\u001b[38;5;241m=\u001b[39m\u001b[38;5;28;01mFalse\u001b[39;00m\n\u001b[0;32m     18\u001b[0m )\n\u001b[0;32m     20\u001b[0m trainer \u001b[38;5;241m=\u001b[39m MyTrainer(\n\u001b[0;32m     21\u001b[0m     model\u001b[38;5;241m=\u001b[39mmodel,\n\u001b[0;32m     22\u001b[0m     tokenizer\u001b[38;5;241m=\u001b[39mtokenizer,\n\u001b[1;32m   (...)\u001b[0m\n\u001b[0;32m     27\u001b[0m     \u001b[38;5;66;03m# callbacks=[eccb]\u001b[39;00m\n\u001b[0;32m     28\u001b[0m )\n\u001b[1;32m---> 29\u001b[0m \u001b[43mtrainer\u001b[49m\u001b[38;5;241;43m.\u001b[39;49m\u001b[43mtrain\u001b[49m\u001b[43m(\u001b[49m\u001b[43m)\u001b[49m\n",
      "File \u001b[1;32mF:\\learn\\AI\\carr001\\venv\\lib\\site-packages\\transformers\\trainer.py:1555\u001b[0m, in \u001b[0;36mTrainer.train\u001b[1;34m(self, resume_from_checkpoint, trial, ignore_keys_for_eval, **kwargs)\u001b[0m\n\u001b[0;32m   1553\u001b[0m         hf_hub_utils\u001b[38;5;241m.\u001b[39menable_progress_bars()\n\u001b[0;32m   1554\u001b[0m \u001b[38;5;28;01melse\u001b[39;00m:\n\u001b[1;32m-> 1555\u001b[0m     \u001b[38;5;28;01mreturn\u001b[39;00m \u001b[43minner_training_loop\u001b[49m\u001b[43m(\u001b[49m\n\u001b[0;32m   1556\u001b[0m \u001b[43m        \u001b[49m\u001b[43margs\u001b[49m\u001b[38;5;241;43m=\u001b[39;49m\u001b[43margs\u001b[49m\u001b[43m,\u001b[49m\n\u001b[0;32m   1557\u001b[0m \u001b[43m        \u001b[49m\u001b[43mresume_from_checkpoint\u001b[49m\u001b[38;5;241;43m=\u001b[39;49m\u001b[43mresume_from_checkpoint\u001b[49m\u001b[43m,\u001b[49m\n\u001b[0;32m   1558\u001b[0m \u001b[43m        \u001b[49m\u001b[43mtrial\u001b[49m\u001b[38;5;241;43m=\u001b[39;49m\u001b[43mtrial\u001b[49m\u001b[43m,\u001b[49m\n\u001b[0;32m   1559\u001b[0m \u001b[43m        \u001b[49m\u001b[43mignore_keys_for_eval\u001b[49m\u001b[38;5;241;43m=\u001b[39;49m\u001b[43mignore_keys_for_eval\u001b[49m\u001b[43m,\u001b[49m\n\u001b[0;32m   1560\u001b[0m \u001b[43m    \u001b[49m\u001b[43m)\u001b[49m\n",
      "File \u001b[1;32mF:\\learn\\AI\\carr001\\venv\\lib\\site-packages\\transformers\\trainer.py:1895\u001b[0m, in \u001b[0;36mTrainer._inner_training_loop\u001b[1;34m(self, batch_size, args, resume_from_checkpoint, trial, ignore_keys_for_eval)\u001b[0m\n\u001b[0;32m   1890\u001b[0m         nn\u001b[38;5;241m.\u001b[39mutils\u001b[38;5;241m.\u001b[39mclip_grad_norm_(\n\u001b[0;32m   1891\u001b[0m             amp\u001b[38;5;241m.\u001b[39mmaster_params(\u001b[38;5;28mself\u001b[39m\u001b[38;5;241m.\u001b[39moptimizer),\n\u001b[0;32m   1892\u001b[0m             args\u001b[38;5;241m.\u001b[39mmax_grad_norm,\n\u001b[0;32m   1893\u001b[0m         )\n\u001b[0;32m   1894\u001b[0m     \u001b[38;5;28;01melse\u001b[39;00m:\n\u001b[1;32m-> 1895\u001b[0m         \u001b[38;5;28;43mself\u001b[39;49m\u001b[38;5;241;43m.\u001b[39;49m\u001b[43maccelerator\u001b[49m\u001b[38;5;241;43m.\u001b[39;49m\u001b[43mclip_grad_norm_\u001b[49m\u001b[43m(\u001b[49m\n\u001b[0;32m   1896\u001b[0m \u001b[43m            \u001b[49m\u001b[43mmodel\u001b[49m\u001b[38;5;241;43m.\u001b[39;49m\u001b[43mparameters\u001b[49m\u001b[43m(\u001b[49m\u001b[43m)\u001b[49m\u001b[43m,\u001b[49m\n\u001b[0;32m   1897\u001b[0m \u001b[43m            \u001b[49m\u001b[43margs\u001b[49m\u001b[38;5;241;43m.\u001b[39;49m\u001b[43mmax_grad_norm\u001b[49m\u001b[43m,\u001b[49m\n\u001b[0;32m   1898\u001b[0m \u001b[43m        \u001b[49m\u001b[43m)\u001b[49m\n\u001b[0;32m   1900\u001b[0m \u001b[38;5;66;03m# Optimizer step\u001b[39;00m\n\u001b[0;32m   1901\u001b[0m optimizer_was_run \u001b[38;5;241m=\u001b[39m \u001b[38;5;28;01mTrue\u001b[39;00m\n",
      "File \u001b[1;32mF:\\learn\\AI\\carr001\\venv\\lib\\site-packages\\accelerate\\accelerator.py:2157\u001b[0m, in \u001b[0;36mAccelerator.clip_grad_norm_\u001b[1;34m(self, parameters, max_norm, norm_type)\u001b[0m\n\u001b[0;32m   2155\u001b[0m             \u001b[38;5;66;03m# Set is_xla_gradients_synced to True to avoid all-reduce twice in the AcceleratedOptimizer step.\u001b[39;00m\n\u001b[0;32m   2156\u001b[0m             acc_opt\u001b[38;5;241m.\u001b[39mgradient_state\u001b[38;5;241m.\u001b[39mis_xla_gradients_synced \u001b[38;5;241m=\u001b[39m \u001b[38;5;28;01mTrue\u001b[39;00m\n\u001b[1;32m-> 2157\u001b[0m \u001b[38;5;28;43mself\u001b[39;49m\u001b[38;5;241;43m.\u001b[39;49m\u001b[43munscale_gradients\u001b[49m\u001b[43m(\u001b[49m\u001b[43m)\u001b[49m\n\u001b[0;32m   2158\u001b[0m \u001b[38;5;28;01mreturn\u001b[39;00m torch\u001b[38;5;241m.\u001b[39mnn\u001b[38;5;241m.\u001b[39mutils\u001b[38;5;241m.\u001b[39mclip_grad_norm_(parameters, max_norm, norm_type\u001b[38;5;241m=\u001b[39mnorm_type)\n",
      "File \u001b[1;32mF:\\learn\\AI\\carr001\\venv\\lib\\site-packages\\accelerate\\accelerator.py:2107\u001b[0m, in \u001b[0;36mAccelerator.unscale_gradients\u001b[1;34m(self, optimizer)\u001b[0m\n\u001b[0;32m   2105\u001b[0m \u001b[38;5;28;01mwhile\u001b[39;00m \u001b[38;5;28misinstance\u001b[39m(opt, AcceleratedOptimizer):\n\u001b[0;32m   2106\u001b[0m     opt \u001b[38;5;241m=\u001b[39m opt\u001b[38;5;241m.\u001b[39moptimizer\n\u001b[1;32m-> 2107\u001b[0m \u001b[38;5;28;43mself\u001b[39;49m\u001b[38;5;241;43m.\u001b[39;49m\u001b[43mscaler\u001b[49m\u001b[38;5;241;43m.\u001b[39;49m\u001b[43munscale_\u001b[49m\u001b[43m(\u001b[49m\u001b[43mopt\u001b[49m\u001b[43m)\u001b[49m\n",
      "File \u001b[1;32mF:\\learn\\AI\\carr001\\venv\\lib\\site-packages\\torch\\cuda\\amp\\grad_scaler.py:336\u001b[0m, in \u001b[0;36mGradScaler.unscale_\u001b[1;34m(self, optimizer)\u001b[0m\n\u001b[0;32m    333\u001b[0m inv_scale \u001b[38;5;241m=\u001b[39m \u001b[38;5;28mself\u001b[39m\u001b[38;5;241m.\u001b[39m_scale\u001b[38;5;241m.\u001b[39mdouble()\u001b[38;5;241m.\u001b[39mreciprocal()\u001b[38;5;241m.\u001b[39mfloat()\n\u001b[0;32m    334\u001b[0m found_inf \u001b[38;5;241m=\u001b[39m torch\u001b[38;5;241m.\u001b[39mfull((), \u001b[38;5;241m0.0\u001b[39m, dtype\u001b[38;5;241m=\u001b[39mtorch\u001b[38;5;241m.\u001b[39mfloat32, device\u001b[38;5;241m=\u001b[39m\u001b[38;5;28mself\u001b[39m\u001b[38;5;241m.\u001b[39m_scale\u001b[38;5;241m.\u001b[39mdevice)\n\u001b[1;32m--> 336\u001b[0m optimizer_state[\u001b[38;5;124m\"\u001b[39m\u001b[38;5;124mfound_inf_per_device\u001b[39m\u001b[38;5;124m\"\u001b[39m] \u001b[38;5;241m=\u001b[39m \u001b[38;5;28;43mself\u001b[39;49m\u001b[38;5;241;43m.\u001b[39;49m\u001b[43m_unscale_grads_\u001b[49m\u001b[43m(\u001b[49m\n\u001b[0;32m    337\u001b[0m \u001b[43m    \u001b[49m\u001b[43moptimizer\u001b[49m\u001b[43m,\u001b[49m\u001b[43m \u001b[49m\u001b[43minv_scale\u001b[49m\u001b[43m,\u001b[49m\u001b[43m \u001b[49m\u001b[43mfound_inf\u001b[49m\u001b[43m,\u001b[49m\u001b[43m \u001b[49m\u001b[38;5;28;43;01mFalse\u001b[39;49;00m\n\u001b[0;32m    338\u001b[0m \u001b[43m\u001b[49m\u001b[43m)\u001b[49m\n\u001b[0;32m    339\u001b[0m optimizer_state[\u001b[38;5;124m\"\u001b[39m\u001b[38;5;124mstage\u001b[39m\u001b[38;5;124m\"\u001b[39m] \u001b[38;5;241m=\u001b[39m OptState\u001b[38;5;241m.\u001b[39mUNSCALED\n",
      "File \u001b[1;32mF:\\learn\\AI\\carr001\\venv\\lib\\site-packages\\torch\\cuda\\amp\\grad_scaler.py:258\u001b[0m, in \u001b[0;36mGradScaler._unscale_grads_\u001b[1;34m(self, optimizer, inv_scale, found_inf, allow_fp16)\u001b[0m\n\u001b[0;32m    256\u001b[0m     \u001b[38;5;28;01mcontinue\u001b[39;00m\n\u001b[0;32m    257\u001b[0m \u001b[38;5;28;01mif\u001b[39;00m (\u001b[38;5;129;01mnot\u001b[39;00m allow_fp16) \u001b[38;5;129;01mand\u001b[39;00m param\u001b[38;5;241m.\u001b[39mgrad\u001b[38;5;241m.\u001b[39mdtype \u001b[38;5;241m==\u001b[39m torch\u001b[38;5;241m.\u001b[39mfloat16:\n\u001b[1;32m--> 258\u001b[0m     \u001b[38;5;28;01mraise\u001b[39;00m \u001b[38;5;167;01mValueError\u001b[39;00m(\u001b[38;5;124m\"\u001b[39m\u001b[38;5;124mAttempting to unscale FP16 gradients.\u001b[39m\u001b[38;5;124m\"\u001b[39m)\n\u001b[0;32m    259\u001b[0m \u001b[38;5;28;01mif\u001b[39;00m param\u001b[38;5;241m.\u001b[39mgrad\u001b[38;5;241m.\u001b[39mis_sparse:\n\u001b[0;32m    260\u001b[0m     \u001b[38;5;66;03m# is_coalesced() == False means the sparse grad has values with duplicate indices.\u001b[39;00m\n\u001b[0;32m    261\u001b[0m     \u001b[38;5;66;03m# coalesce() deduplicates indices and adds all values that have the same index.\u001b[39;00m\n\u001b[0;32m    262\u001b[0m     \u001b[38;5;66;03m# For scaled fp16 values, there's a good chance coalescing will cause overflow,\u001b[39;00m\n\u001b[0;32m    263\u001b[0m     \u001b[38;5;66;03m# so we should check the coalesced _values().\u001b[39;00m\n\u001b[0;32m    264\u001b[0m     \u001b[38;5;28;01mif\u001b[39;00m param\u001b[38;5;241m.\u001b[39mgrad\u001b[38;5;241m.\u001b[39mdtype \u001b[38;5;129;01mis\u001b[39;00m torch\u001b[38;5;241m.\u001b[39mfloat16:\n",
      "\u001b[1;31mValueError\u001b[0m: Attempting to unscale FP16 gradients."
     ]
    }
   ],
   "source": [
    "\n",
    "\n",
    "\n",
    "args = TrainingArguments(\n",
    "    output_dir=\"test004\",\n",
    "    per_device_train_batch_size=1, \n",
    "    per_device_eval_batch_size=1,\n",
    "    evaluation_strategy=\"steps\",\n",
    "    eval_steps=50,\n",
    "    logging_steps=50,\n",
    "    gradient_accumulation_steps=8,\n",
    "    num_train_epochs=1,\n",
    "    weight_decay=0.1,\n",
    "    warmup_steps=1_000,\n",
    "    lr_scheduler_type=\"cosine\",\n",
    "    learning_rate=5e-4,\n",
    "    save_steps=100,\n",
    "    fp16=True,\n",
    "    push_to_hub=False,\n",
    "    remove_unused_columns=False\n",
    ")\n",
    "\n",
    "trainer = MyTrainer(\n",
    "    model=model,\n",
    "    tokenizer=tokenizer,\n",
    "    args=args,\n",
    "    data_collator=data_collator,\n",
    "    train_dataset=tokenized_datasets[\"train\"],\n",
    "    eval_dataset=tokenized_datasets[\"valid\"],\n",
    "    # callbacks=[eccb]\n",
    ")\n",
    "trainer.train()"
   ]
  },
  {
   "cell_type": "code",
   "execution_count": 37,
   "metadata": {},
   "outputs": [
    {
     "name": "stdout",
     "output_type": "stream",
     "text": [
      "Name: transformersNote: you may need to restart the kernel to use updated packages.\n"
     ]
    },
    {
     "name": "stderr",
     "output_type": "stream",
     "text": [
      "WARNING: Ignoring invalid distribution -otebook (f:\\learn\\ai\\carr001\\venv\\lib\\site-packages)\n"
     ]
    },
    {
     "name": "stdout",
     "output_type": "stream",
     "text": [
      "\n",
      "Version: 4.32.0\n",
      "Summary: State-of-the-art Machine Learning for JAX, PyTorch and TensorFlow\n",
      "Home-page: https://github.com/huggingface/transformers\n",
      "Author: The Hugging Face team (past and future) with the help of all our contributors (https://github.com/huggingface/transformers/graphs/contributors)\n",
      "Author-email: transformers@huggingface.co\n",
      "License: Apache 2.0 License\n",
      "Location: f:\\learn\\ai\\carr001\\venv\\lib\\site-packages\n",
      "Requires: filelock, huggingface-hub, numpy, packaging, pyyaml, regex, requests, safetensors, tokenizers, tqdm\n",
      "Required-by: peft, sentence-transformers\n"
     ]
    }
   ],
   "source": [
    "pip show transformers\n"
   ]
  },
  {
   "cell_type": "code",
   "execution_count": null,
   "metadata": {},
   "outputs": [],
   "source": []
  }
 ],
 "metadata": {
  "kernelspec": {
   "display_name": "Python 3 (ipykernel)",
   "language": "python",
   "name": "python3"
  },
  "language_info": {
   "codemirror_mode": {
    "name": "ipython",
    "version": 3
   },
   "file_extension": ".py",
   "mimetype": "text/x-python",
   "name": "python",
   "nbconvert_exporter": "python",
   "pygments_lexer": "ipython3",
   "version": "3.9.13"
  }
 },
 "nbformat": 4,
 "nbformat_minor": 4
}
